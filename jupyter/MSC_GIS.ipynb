{
 "cells": [
  {
   "cell_type": "code",
   "execution_count": 31,
   "metadata": {},
   "outputs": [],
   "source": [
    "from py2neo import Graph\n",
    "import numpy as np\n",
    "import pandas as pd\n",
    "import matplotlib.pyplot as plt\n",
    "import seaborn as sns\n",
    "from ipyleaflet import Map,CircleMarker,FullScreenControl,basemaps, basemap_to_tiles\n",
    "import geopandas\n",
    "import descartes\n",
    "import matplotlib"
   ]
  },
  {
   "cell_type": "markdown",
   "metadata": {},
   "source": [
    "Connect to Neo4J using default userid and modified"
   ]
  },
  {
   "cell_type": "code",
   "execution_count": 32,
   "metadata": {},
   "outputs": [],
   "source": [
    "graph = Graph(\"bolt://localhost:7687\", auth=(\"neo4j\", \"test\"))"
   ]
  },
  {
   "cell_type": "markdown",
   "metadata": {},
   "source": [
    "Use the city object to centre maps. Leaflet will be used to plot the maps within the notebook, although the CSVs are exported to allow the final maps to be created in other tooling."
   ]
  },
  {
   "cell_type": "code",
   "execution_count": 33,
   "metadata": {},
   "outputs": [],
   "source": [
    "df_map = graph.run(\n",
    "  \"\"\"MATCH (c:City) RETURN c.location.longitude as long, c.location.latitude as lat\"\"\"\n",
    ").to_data_frame()"
   ]
  },
  {
   "cell_type": "markdown",
   "metadata": {},
   "source": [
    "Utility Functions"
   ]
  },
  {
   "cell_type": "code",
   "execution_count": 38,
   "metadata": {},
   "outputs": [],
   "source": [
    "def makeMap() : \n",
    "    \"\"\" Make a Map based on the centre retrieved from Neo4J\n",
    "    \"\"\"\n",
    "    # Use .item() as an error occurs trying to use numpy value types. item() converts to native Python\n",
    "    m = Map(center=[df_map['lat'].item(),df_map['long'].item()],zoom=10)\n",
    "    dark_matter_layer = basemap_to_tiles(basemaps.CartoDB.DarkMatter)\n",
    "    m.add_layer(dark_matter_layer)\n",
    "    m.add_control(FullScreenControl())\n",
    "    return m\n",
    "\n",
    "def getColorFor2008To2018Change(value) : \n",
    "    \"\"\"  Return a colour based on a value\n",
    "    \"\"\"\n",
    "    if(value <= 100) :\n",
    "        return 'red'\n",
    "    elif (value > 101 and value < 600)  :\n",
    "        return 'orange'\n",
    "    else :\n",
    "        return 'green'  \n",
    "\n",
    "def getColourForFlag(value) : \n",
    "    \"\"\"  Return a colour based on a flag\n",
    "    \"\"\"\n",
    "    if(value == 'U') :\n",
    "        return \"Green\"\n",
    "    else :\n",
    "        return \"Red\"    \n",
    "    \n",
    "    \n",
    "def createMarkers(x,m,field, size, colorFunction) :\n",
    "    circle_marker = CircleMarker()\n",
    "    circle_marker.location = (x['latitude'],x['longitude'])\n",
    "    circle_marker.radius = size\n",
    "    circle_marker.color = \"red\"\n",
    "    circle_marker.stroke = False\n",
    "    circle_marker.fill_opacity = 1\n",
    "    circle_marker.fill_color = colorFunction(x[field])\n",
    "    m.add_layer(circle_marker)\n",
    "def addMarkers(m,df,field, size, colorFunction) :\n",
    "    df.apply(lambda x: createMarkers(x,m,field, size, colorFunction), axis=1)\n",
    "    #for index, row in df.iterrows():\n",
    "       \n",
    "        \n",
    "def updateDataFrame(df, suffix) :\n",
    "    \"\"\"\n",
    "        Update the DataFrame to include changes in average between years\n",
    "    \"\"\"\n",
    "    # need to set the type of avgXXXX and add a suffix\n",
    "    df['avg1998' + suffix] = df['avg1998'].astype(np.int64)\n",
    "    df['avg2008' + suffix] = df['avg2008'].astype(np.int64)\n",
    "    df['avg2018' + suffix] = df['avg2018'].astype(np.int64)\n",
    "    \n",
    "    # calculate the change between years and add it to the dataframe\n",
    "    df[\"change1998to2018\" + suffix] = df.apply(lambda x: change1998to2018(x, suffix), axis=1)\n",
    "    df[\"change1998to2008\" + suffix] = df.apply(lambda x: change1998to2008(x, suffix), axis=1)\n",
    "    df[\"change2008to2018\" + suffix] = df.apply(lambda x: change2008to2018(x, suffix), axis=1)\n",
    "\n",
    "def change1998to2018(x,suffix):\n",
    "  return changeBetweenYears(x,'avg1998' + suffix,'avg2018' + suffix)\n",
    "def change1998to2008(x,suffix):\n",
    "  return changeBetweenYears(x,'avg1998' + suffix,'avg2008' + suffix)\n",
    "def change2008to2018(x,suffix):\n",
    "  return changeBetweenYears(x,'avg2008' + suffix,'avg2018' + suffix)\n",
    "\n",
    "def changeBetweenYears(x,year1, year2) :\n",
    "  if(x[year1] == 0 or x[year2] == 0) :\n",
    "    return 0\n",
    "  else :\n",
    "    return (x[year2] - x[year1])/x[year1] * 100\n",
    "\n",
    "def calcuteIncreaseDecreaseFor500And1000(x) : \n",
    "    \"\"\"\n",
    "        Calculates \n",
    "    \"\"\" \n",
    "    if((x['change1998to2018_500'] > x['change1998to2018_1000']) and percentChangeGreaterThan5Percent(x['change1998to2018_500'], x['change1998to2018_1000'])) :\n",
    "        return 'U'\n",
    "    elif((x['change1998to2018_500'] < x['change1998to2018_1000']) and percentChangeGreaterThan5Percent(x['change1998to2018_1000'], x['change1998to2018_500'])) :\n",
    "        return 'D'\n",
    "    else:\n",
    "        return 'N'\n",
    "def percentChangeGreaterThan5Percent(val1, val2) :\n",
    "    if(val2 == 0) :\n",
    "        return False\n",
    "    if(((val1 - val2) / val2) > .05) :\n",
    "        return True\n",
    "    else :\n",
    "        return False\n",
    "    \n",
    "def writeDataFrameToCSV(dataframe, filename) :\n",
    "    dataframe.to_csv(\"../csvs/\" + filename, index=False);"
   ]
  },
  {
   "cell_type": "markdown",
   "metadata": {},
   "source": [
    "Create a CSV for all the station locations with lines. "
   ]
  },
  {
   "cell_type": "code",
   "execution_count": null,
   "metadata": {},
   "outputs": [],
   "source": [
    "df_stations = graph.run(\n",
    "    \"\"\"MATCH (l:Line)-[:IS_ON]-(s)\n",
    "    RETURN l.name as lineName, s.name as stationName, s.location.x as longitude, s.location.y as latitude\n",
    "    \"\"\").to_data_frame();\n",
    "writeDataFrameToCSV(df_stations, \"lines_and_stations.csv\");    \n",
    "    "
   ]
  },
  {
   "cell_type": "markdown",
   "metadata": {},
   "source": [
    "Create a Map that shows whether the change in sales prices is greater within 500m or between 1000m and 1500m. A field is added that has 'U' for 500 > 1000 'D' For 500 < 1000"
   ]
  },
  {
   "cell_type": "code",
   "execution_count": 41,
   "metadata": {},
   "outputs": [],
   "source": [
    "df_500 = graph.run(\n",
    "  \"\"\"MATCH (l:Line)<-[i:IS_ON]-(s)<-[:IS_WITHIN {distance : 500}]-(p)<-[t:SALE_IN]-(sl)\n",
    "  WITH DISTINCT(sl) as sl,s,l \n",
    "  WITH  [x IN collect(sl) WHERE x.year = 1998 | x.price] as sales1998,[x IN collect(sl) WHERE x.year = 2008 | x.price] as sales2008,[x IN collect(sl) WHERE x.year = 2018 | x.price] as sales2018,s,l\n",
    "  RETURN l.name as lineName, s.name as stationName, s.location.x as longitude, s.location.y as latitude, COALESCE(apoc.coll.avg(sales1998),0) as avg1998, COALESCE(apoc.coll.avg(sales2008),0) as avg2008,COALESCE(apoc.coll.avg(sales2018),0) as avg2018\"\"\"\n",
    ").to_data_frame()\n",
    "\n",
    "df_1000 = graph.run(\n",
    "  \"\"\"MATCH (l:Line)<-[i:IS_ON]-(s)<-[:IS_WITHIN {distance : 1000}]-(p)<-[t:SALE_IN]-(sl)\n",
    "  WITH DISTINCT(sl) as sl,s,l \n",
    "  WITH  [x IN collect(sl) WHERE x.year = 1998 | x.price] as sales1998,[x IN collect(sl) WHERE x.year = 2008 | x.price] as sales2008,[x IN collect(sl) WHERE x.year = 2018 | x.price] as sales2018,s,l\n",
    "  RETURN l.name as lineName, s.name as stationName, s.location.x as longitude, s.location.y as latitude, COALESCE(apoc.coll.avg(sales1998),0) as avg1998, COALESCE(apoc.coll.avg(sales2008),0) as avg2008,COALESCE(apoc.coll.avg(sales2018),0) as avg2018\"\"\"\n",
    ").to_data_frame()"
   ]
  },
  {
   "cell_type": "code",
   "execution_count": 42,
   "metadata": {},
   "outputs": [],
   "source": [
    "updateDataFrame(df_500,'_500')\n",
    "updateDataFrame(df_1000,'_1000')\n",
    "\n",
    "df_combined = pd.merge(df_500, df_1000, on=['lineName', 'stationName','latitude','longitude'])\n",
    "df_combined[\"change\"] = df_combined.apply(lambda x: calcuteIncreaseDecreaseFor500And1000(x), axis=1)"
   ]
  },
  {
   "cell_type": "code",
   "execution_count": 43,
   "metadata": {},
   "outputs": [
    {
     "data": {
      "application/vnd.jupyter.widget-view+json": {
       "model_id": "e1b579f84ef0460285d639ebdbe7fd5b",
       "version_major": 2,
       "version_minor": 0
      },
      "text/plain": [
       "Map(basemap={'url': 'https://{s}.tile.openstreetmap.org/{z}/{x}/{y}.png', 'max_zoom': 19, 'attribution': 'Map …"
      ]
     },
     "metadata": {},
     "output_type": "display_data"
    }
   ],
   "source": [
    "m1 = makeMap()\n",
    "m1"
   ]
  },
  {
   "cell_type": "code",
   "execution_count": 44,
   "metadata": {},
   "outputs": [],
   "source": [
    "addMarkers(m1,df_combined,'change',6, getColourForFlag)\n"
   ]
  },
  {
   "cell_type": "code",
   "execution_count": 45,
   "metadata": {},
   "outputs": [],
   "source": [
    "writeDataFrameToCSV(df_combined,\"increase_decrease_between_500_and_1000_1998_to_2018.csv\")"
   ]
  },
  {
   "cell_type": "code",
   "execution_count": 47,
   "metadata": {},
   "outputs": [],
   "source": [
    "def runQueryAndUpdateMap (m) : \n",
    "    df_500 = graph.run(\n",
    "      \"\"\"MATCH (s:Station)<-[:IS_WITHIN {distance : 500}]-(p)<-[t:SALE_IN]-(sl)\n",
    "      WITH DISTINCT(sl) as sl,s\n",
    "      WITH  [x IN collect(sl) WHERE x.year = 1998 | x.price] as sales1998,[x IN collect(sl) WHERE x.year = 2008 | x.price] as sales2008,[x IN collect(sl) WHERE x.year = 2018 | x.price] as sales2018,s\n",
    "      RETURN s.name as stationName, s.location.x as longitude, s.location.y as latitude, COALESCE(apoc.coll.avg(sales1998),0) as avg1998, COALESCE(apoc.coll.avg(sales2008),0) as avg2008,COALESCE(apoc.coll.avg(sales2018),0) as avg2018\"\"\"\n",
    "    ).to_data_frame()\n",
    "   \n",
    "    df_1000 = graph.run(\n",
    "      \"\"\"MATCH (s:Station)<-[:IS_WITHIN {distance : 1000}]-(p)<-[t:SALE_IN]-(sl)\n",
    "      WITH DISTINCT(sl) as sl,s\n",
    "      WITH  [x IN collect(sl) WHERE x.year = 1998 | x.price] as sales1998,[x IN collect(sl) WHERE x.year = 2008 | x.price] as sales2008,[x IN collect(sl) WHERE x.year = 2018 | x.price] as sales2018,s\n",
    "      RETURN s.name as stationName, s.location.x as longitude, s.location.y as latitude, COALESCE(apoc.coll.avg(sales1998),0) as avg1998, COALESCE(apoc.coll.avg(sales2008),0) as avg2008,COALESCE(apoc.coll.avg(sales2018),0) as avg2018\"\"\"\n",
    "    ).to_data_frame()\n",
    "\n",
    "    updateDataFrame(df_500, '_500')\n",
    "    updateDataFrame(df_1000, '_1000')\n",
    "\n",
    "    addMarkers(m,df_1000,'change1998to2018_1000',5,getColorFor2008To2018Change)\n",
    "    addMarkers(m,df_500,'change1998to2018_500',3,getColorFor2008To2018Change)\n",
    "    \n",
    "    df_combined = pd.merge(df_500, df_1000, on=['stationName','latitude','longitude'])\n",
    "    df_combined[\"change\"] = df_combined.apply(lambda x: calcuteIncreaseDecreaseFor500And1000(x), axis=1)\n",
    "    \n",
    "    return df_combined"
   ]
  },
  {
   "cell_type": "code",
   "execution_count": 48,
   "metadata": {
    "scrolled": true
   },
   "outputs": [
    {
     "data": {
      "application/vnd.jupyter.widget-view+json": {
       "model_id": "df927b7a5c0342a795016c1bb3fe30fa",
       "version_major": 2,
       "version_minor": 0
      },
      "text/plain": [
       "Map(basemap={'url': 'https://{s}.tile.openstreetmap.org/{z}/{x}/{y}.png', 'max_zoom': 19, 'attribution': 'Map …"
      ]
     },
     "metadata": {},
     "output_type": "display_data"
    }
   ],
   "source": [
    "m2 = makeMap()\n",
    "df_combined = runQueryAndUpdateMap(m2)\n",
    "writeDataFrameToCSV(df_combined,\"differences_between_500_and_1000_for_all_building_type.csv\")\n",
    "m2"
   ]
  },
  {
   "cell_type": "code",
   "execution_count": 13,
   "metadata": {},
   "outputs": [
    {
     "name": "stdout",
     "output_type": "stream",
     "text": [
      "U    276\n",
      "D    267\n",
      "N     94\n",
      "Name: change, dtype: int64\n"
     ]
    }
   ],
   "source": [
    "print(df_combined['change'].value_counts())"
   ]
  },
  {
   "cell_type": "code",
   "execution_count": 14,
   "metadata": {},
   "outputs": [],
   "source": [
    "addMarkers(m2,df_1000,'change2008to2018',5,getColorFor2008To2018Change)\n",
    "addMarkers(m2,df_500,'change2008to2018',3,getColorFor2008To2018Change)"
   ]
  },
  {
   "cell_type": "code",
   "execution_count": 15,
   "metadata": {},
   "outputs": [],
   "source": [
    "def runDistanceQuery(lower, upper, postcodeDistance) :\n",
    "    \n",
    "    params = {\n",
    "        \"lower\": lower,\n",
    "        \"upper\": upper,\n",
    "        \"postcodeDistance\" : postcodeDistance\n",
    "    }\n",
    "    \n",
    "    df = graph.run(\n",
    "    \"\"\"MATCH (c:City)\n",
    "    WITH c\n",
    "    MATCH (s:Station) WHERE DISTANCE(s.location, c.location) >= $lower AND DISTANCE(s.location, c.location) < $upper\n",
    "    WITH s\n",
    "    MATCH (s)<-[:IS_WITHIN {distance : $postcodeDistance}]-(p)<-[t:SALE_IN]-(sl)\n",
    "    WITH DISTINCT(sl) as sl,s\n",
    "    WITH  [x IN collect(sl) WHERE x.year = 1998 | x.price] as sales1998,[x IN collect(sl) WHERE x.year = 2008 | x.price] as sales2008,[x IN collect(sl) WHERE x.year = 2018 | x.price] as sales2018,s\n",
    "    RETURN s.name as stationName, s.location.x as longitude, s.location.y as latitude, COALESCE(apoc.coll.avg(sales1998),0) as avg1998, COALESCE(apoc.coll.avg(sales2008),0) as avg2008,COALESCE(apoc.coll.avg(sales2018),0) as avg2018\"\"\",params).to_data_frame()\n",
    "    return df"
   ]
  },
  {
   "cell_type": "code",
   "execution_count": 16,
   "metadata": {},
   "outputs": [],
   "source": [
    "df5_500 = runDistanceQuery(5000,6000,500)\n",
    "df10_500 = runDistanceQuery(10000,11000,500)\n",
    "df15_500 = runDistanceQuery(15000,16000,500)\n",
    "df20_500 = runDistanceQuery(20000,21000,500)\n",
    "\n",
    "df5_1000 = runDistanceQuery(5000,6000,1000)\n",
    "df10_1000 = runDistanceQuery(10000,11000,1000)\n",
    "df15_1000 = runDistanceQuery(15000,16000,1000)\n",
    "df20_1000 = runDistanceQuery(20000,21000,1000)"
   ]
  },
  {
   "cell_type": "code",
   "execution_count": 17,
   "metadata": {},
   "outputs": [],
   "source": [
    "updateDataFrame(df5_500, '')\n",
    "updateDataFrame(df10_500, '')\n",
    "updateDataFrame(df15_500, '')\n",
    "updateDataFrame(df20_500, '')\n",
    "updateDataFrame(df5_1000, '')\n",
    "updateDataFrame(df10_1000, '')\n",
    "updateDataFrame(df15_1000, '')\n",
    "updateDataFrame(df20_1000, '')"
   ]
  },
  {
   "cell_type": "code",
   "execution_count": 18,
   "metadata": {},
   "outputs": [
    {
     "data": {
      "application/vnd.jupyter.widget-view+json": {
       "model_id": "60ff7675448c4b4fa471ae2d5dae2bd0",
       "version_major": 2,
       "version_minor": 0
      },
      "text/plain": [
       "Map(basemap={'url': 'https://{s}.tile.openstreetmap.org/{z}/{x}/{y}.png', 'max_zoom': 19, 'attribution': 'Map …"
      ]
     },
     "metadata": {},
     "output_type": "display_data"
    }
   ],
   "source": [
    "m3 = makeMap()\n",
    "m3"
   ]
  },
  {
   "cell_type": "code",
   "execution_count": 58,
   "metadata": {},
   "outputs": [],
   "source": [
    "addMarkers(m3,df5_1000,'change2008to2018',6, getColorFor2008To2018Change)\n",
    "writeDataFrameToCSV(df5_1000, \"distance_5_range_1000.csv\");\n",
    "addMarkers(m3,df10_1000,'change2008to2018',6, getColorFor2008To2018Change)\n",
    "writeDataFrameToCSV(df10_1000, \"distance_10_range_1000.csv\");\n",
    "addMarkers(m3,df15_1000,'change2008to2018',6, getColorFor2008To2018Change)\n",
    "writeDataFrameToCSV(df15_1000, \"distance_15_range_1000.csv\");\n",
    "addMarkers(m3,df20_1000,'change2008to2018',6, getColorFor2008To2018Change)\n",
    "writeDataFrameToCSV(df20_1000, \"distance_20_range_1000.csv\");\n",
    "\n",
    "addMarkers(m3,df5_500,'change2008to2018',3, getColorFor2008To2018Change)\n",
    "writeDataFrameToCSV(df5_500, \"distance_5_range_500.csv\");\n",
    "addMarkers(m3,df10_500,'change2008to2018',3, getColorFor2008To2018Change)\n",
    "writeDataFrameToCSV(df10_500, \"distance_10_range_500.csv\");\n",
    "addMarkers(m3,df15_500,'change2008to2018',3, getColorFor2008To2018Change)\n",
    "writeDataFrameToCSV(df15_500, \"distance_15_range_500.csv\");\n",
    "addMarkers(m3,df20_500,'change2008to2018',3, getColorFor2008To2018Change)\n",
    "writeDataFrameToCSV(df20_500, \"distance_20_range_500.csv\");"
   ]
  },
  {
   "cell_type": "markdown",
   "metadata": {},
   "source": [
    "Look at Flats only for 500 and 1000"
   ]
  },
  {
   "cell_type": "code",
   "execution_count": 49,
   "metadata": {},
   "outputs": [],
   "source": [
    "def runQueryAndUpdateMapForBuldingType (building_type, m) : \n",
    "    df_500 = graph.run(\n",
    "      \"\"\"MATCH (s:Station)<-[:IS_WITHIN {distance : 500}]-(p)<-[t:SALE_IN]-(sl {type : {t}})\n",
    "      WITH DISTINCT(sl) as sl,s\n",
    "      WITH  [x IN collect(sl) WHERE x.year = 1998 | x.price] as sales1998,[x IN collect(sl) WHERE x.year = 2008 | x.price] as sales2008,[x IN collect(sl) WHERE x.year = 2018 | x.price] as sales2018,s\n",
    "      RETURN s.name as stationName, s.location.x as longitude, s.location.y as latitude, COALESCE(apoc.coll.avg(sales1998),0) as avg1998, COALESCE(apoc.coll.avg(sales2008),0) as avg2008,COALESCE(apoc.coll.avg(sales2018),0) as avg2018\"\"\"\n",
    "    , t = building_type).to_data_frame()\n",
    "   \n",
    "    df_1000 = graph.run(\n",
    "      \"\"\"MATCH (s:Station)<-[:IS_WITHIN {distance : 1000}]-(p)<-[t:SALE_IN]-(sl {type : {t}})\n",
    "      WITH DISTINCT(sl) as sl,s\n",
    "      WITH  [x IN collect(sl) WHERE x.year = 1998 | x.price] as sales1998,[x IN collect(sl) WHERE x.year = 2008 | x.price] as sales2008,[x IN collect(sl) WHERE x.year = 2018 | x.price] as sales2018,s\n",
    "      RETURN s.name as stationName, s.location.x as longitude, s.location.y as latitude, COALESCE(apoc.coll.avg(sales1998),0) as avg1998, COALESCE(apoc.coll.avg(sales2008),0) as avg2008,COALESCE(apoc.coll.avg(sales2018),0) as avg2018\"\"\"\n",
    "    , t = building_type).to_data_frame()\n",
    "\n",
    "    updateDataFrame(df_500, '_500')\n",
    "    updateDataFrame(df_1000, '_1000')\n",
    "\n",
    "    addMarkers(m,df_1000,'change1998to2018_1000',5,getColorFor2008To2018Change)\n",
    "    addMarkers(m,df_500,'change1998to2018_500',3,getColorFor2008To2018Change)\n",
    "    \n",
    "    df_combined = pd.merge(df_500, df_1000, on=['stationName','latitude','longitude'])\n",
    "    df_combined[\"change\"] = df_combined.apply(lambda x: calcuteIncreaseDecreaseFor500And1000(x), axis=1)\n",
    "    \n",
    "    return df_combined\n"
   ]
  },
  {
   "cell_type": "code",
   "execution_count": 50,
   "metadata": {},
   "outputs": [
    {
     "data": {
      "application/vnd.jupyter.widget-view+json": {
       "model_id": "ceb3f9a495ee444f948c542147e57952",
       "version_major": 2,
       "version_minor": 0
      },
      "text/plain": [
       "Map(basemap={'url': 'https://{s}.tile.openstreetmap.org/{z}/{x}/{y}.png', 'max_zoom': 19, 'attribution': 'Map …"
      ]
     },
     "metadata": {},
     "output_type": "display_data"
    }
   ],
   "source": [
    "m4 = makeMap()\n",
    "df_combined = runQueryAndUpdateMapForBuldingType(\"F\",m4)\n",
    "writeDataFrameToCSV(df_combined,\"differences_between_500_and_1000_for_flats.csv\")\n",
    "m4\n"
   ]
  },
  {
   "cell_type": "code",
   "execution_count": 22,
   "metadata": {},
   "outputs": [
    {
     "name": "stdout",
     "output_type": "stream",
     "text": [
      "U    266\n",
      "D    257\n",
      "N    108\n",
      "Name: change, dtype: int64\n"
     ]
    }
   ],
   "source": [
    "print(df_combined['change'].value_counts())"
   ]
  },
  {
   "cell_type": "code",
   "execution_count": 51,
   "metadata": {},
   "outputs": [
    {
     "data": {
      "application/vnd.jupyter.widget-view+json": {
       "model_id": "2db1abcb5681431496b191e125f02b62",
       "version_major": 2,
       "version_minor": 0
      },
      "text/plain": [
       "Map(basemap={'url': 'https://{s}.tile.openstreetmap.org/{z}/{x}/{y}.png', 'max_zoom': 19, 'attribution': 'Map …"
      ]
     },
     "metadata": {},
     "output_type": "display_data"
    }
   ],
   "source": [
    "m5 = makeMap()\n",
    "df_combined = runQueryAndUpdateMapForBuldingType(\"S\",m5)\n",
    "writeDataFrameToCSV(df_combined,\"differences_between_500_and_1000_for_semi.csv\")\n",
    "m5"
   ]
  },
  {
   "cell_type": "code",
   "execution_count": 25,
   "metadata": {},
   "outputs": [
    {
     "name": "stdout",
     "output_type": "stream",
     "text": [
      "N    205\n",
      "U    204\n",
      "D    187\n",
      "Name: change, dtype: int64\n"
     ]
    }
   ],
   "source": [
    "print(df_combined['change'].value_counts())"
   ]
  },
  {
   "cell_type": "code",
   "execution_count": 54,
   "metadata": {},
   "outputs": [
    {
     "data": {
      "application/vnd.jupyter.widget-view+json": {
       "model_id": "e35785a5906440379c8018c9b261cd83",
       "version_major": 2,
       "version_minor": 0
      },
      "text/plain": [
       "Map(basemap={'url': 'https://{s}.tile.openstreetmap.org/{z}/{x}/{y}.png', 'max_zoom': 19, 'attribution': 'Map …"
      ]
     },
     "metadata": {},
     "output_type": "display_data"
    }
   ],
   "source": [
    "m7 = makeMap()\n",
    "df_combined = runQueryAndUpdateMapForBuldingType(\"D\",m7)\n",
    "writeDataFrameToCSV(df_combined,\"differences_between_500_and_1000_for_detached.csv\")\n",
    "m7"
   ]
  },
  {
   "cell_type": "code",
   "execution_count": 27,
   "metadata": {},
   "outputs": [
    {
     "name": "stdout",
     "output_type": "stream",
     "text": [
      "N    264\n",
      "U    154\n",
      "D    105\n",
      "Name: change, dtype: int64\n"
     ]
    }
   ],
   "source": [
    "print(df_combined['change'].value_counts())"
   ]
  },
  {
   "cell_type": "code",
   "execution_count": 56,
   "metadata": {},
   "outputs": [
    {
     "data": {
      "application/vnd.jupyter.widget-view+json": {
       "model_id": "d10765aa35804095bfb86b8a09bb23b9",
       "version_major": 2,
       "version_minor": 0
      },
      "text/plain": [
       "Map(basemap={'url': 'https://{s}.tile.openstreetmap.org/{z}/{x}/{y}.png', 'max_zoom': 19, 'attribution': 'Map …"
      ]
     },
     "metadata": {},
     "output_type": "display_data"
    }
   ],
   "source": [
    "m6 = makeMap()\n",
    "df_combined = runQueryAndUpdateMapForBuldingType(\"T\",m6)\n",
    "writeDataFrameToCSV(df_combined,\"differences_between_500_and_1000_for_terraced.csv\")\n",
    "m6"
   ]
  },
  {
   "cell_type": "code",
   "execution_count": 29,
   "metadata": {},
   "outputs": [
    {
     "name": "stdout",
     "output_type": "stream",
     "text": [
      "U    268\n",
      "D    214\n",
      "N    137\n",
      "Name: change, dtype: int64\n"
     ]
    }
   ],
   "source": [
    "print(df_combined['change'].value_counts())"
   ]
  },
  {
   "cell_type": "markdown",
   "metadata": {},
   "source": [
    "USE PAGERANK ALGORITHM TO FIND INTERESTING STATIONS"
   ]
  },
  {
   "cell_type": "code",
   "execution_count": 74,
   "metadata": {},
   "outputs": [],
   "source": [
    "def runPageRank(m, direction) :\n",
    "    df_500 = graph.run(\n",
    "      \"\"\"CALL algo.pageRank.stream('Station', 'LINE', {iterations:20, dampingFactor:0.85})\n",
    "    YIELD nodeId, score\n",
    "    WITH  algo.getNodeById(nodeId) AS s, score\n",
    "    MATCH (s)<-[:IS_WITHIN {distance : 500}]-(p)<-[t:SALE_IN]-(sl)\n",
    "    WITH DISTINCT(sl) as sl,s,score\n",
    "    WITH  [x IN collect(sl) WHERE x.year = 1998 | x.price] as sales1998,[x IN collect(sl) WHERE x.year = 2008 | x.price] as sales2008,[x IN collect(sl) WHERE x.year = 2018 | x.price] as sales2018,s,score\n",
    "    RETURN score, s.name as stationName, s.location.x as longitude, s.location.y as latitude, COALESCE(apoc.coll.avg(sales1998),0) as avg1998, COALESCE(apoc.coll.avg(sales2008),0) as avg2008,COALESCE(apoc.coll.avg(sales2018),0) as avg2018\n",
    "    ORDER BY score \"\"\" + direction + \"\"\" \n",
    "    LIMIT 30\"\"\").to_data_frame();\n",
    "\n",
    "\n",
    "    df_1000 = graph.run(\n",
    "      \"\"\"CALL algo.pageRank.stream('Station', 'LINE', {iterations:20, dampingFactor:0.85})\n",
    "    YIELD nodeId, score\n",
    "    WITH  algo.getNodeById(nodeId) AS s, score\n",
    "    MATCH (s)<-[:IS_WITHIN {distance : 1000}]-(p)<-[t:SALE_IN]-(sl)\n",
    "    WITH DISTINCT(sl) as sl,s,score\n",
    "    WITH  [x IN collect(sl) WHERE x.year = 1998 | x.price] as sales1998,[x IN collect(sl) WHERE x.year = 2008 | x.price] as sales2008,[x IN collect(sl) WHERE x.year = 2018 | x.price] as sales2018,s,score\n",
    "    RETURN score, s.name as stationName, s.location.x as longitude, s.location.y as latitude, COALESCE(apoc.coll.avg(sales1998),0) as avg1998, COALESCE(apoc.coll.avg(sales2008),0) as avg2008,COALESCE(apoc.coll.avg(sales2018),0) as avg2018\n",
    "    ORDER BY score \"\"\" + direction + \"\"\" \n",
    "    LIMIT 30\"\"\").to_data_frame();\n",
    "    \n",
    "\n",
    "    updateDataFrame(df_500, '_500')\n",
    "    updateDataFrame(df_1000, '_1000')\n",
    "\n",
    "    addMarkers(m,df_1000,'change1998to2018_1000',5,getColorFor2008To2018Change)\n",
    "    addMarkers(m,df_500,'change1998to2018_500',3,getColorFor2008To2018Change)\n",
    "\n",
    "    writeDataFrameToCSV(df_1000,\"page_rank_1000_\" + direction + \".csv\")\n",
    "    writeDataFrameToCSV(df_500,\"page_rank_500_\" + direction + \".csv\")\n",
    "\n",
    "    "
   ]
  },
  {
   "cell_type": "code",
   "execution_count": 75,
   "metadata": {},
   "outputs": [
    {
     "data": {
      "application/vnd.jupyter.widget-view+json": {
       "model_id": "953471b7385a4b6897334ea871d79fc1",
       "version_major": 2,
       "version_minor": 0
      },
      "text/plain": [
       "Map(basemap={'url': 'https://{s}.tile.openstreetmap.org/{z}/{x}/{y}.png', 'max_zoom': 19, 'attribution': 'Map …"
      ]
     },
     "metadata": {},
     "output_type": "display_data"
    }
   ],
   "source": [
    "m8 = makeMap()\n",
    "runPageRank(m8,\"DESC\")\n",
    "m8"
   ]
  },
  {
   "cell_type": "code",
   "execution_count": 76,
   "metadata": {},
   "outputs": [
    {
     "data": {
      "application/vnd.jupyter.widget-view+json": {
       "model_id": "21a169809a414b9d81123d5012e796ea",
       "version_major": 2,
       "version_minor": 0
      },
      "text/plain": [
       "Map(basemap={'url': 'https://{s}.tile.openstreetmap.org/{z}/{x}/{y}.png', 'max_zoom': 19, 'attribution': 'Map …"
      ]
     },
     "metadata": {},
     "output_type": "display_data"
    }
   ],
   "source": [
    "m9 = makeMap()\n",
    "runPageRank(m9,\"ASC\")\n",
    "m9"
   ]
  }
 ],
 "metadata": {
  "kernelspec": {
   "display_name": "Python 3",
   "language": "python",
   "name": "python3"
  },
  "language_info": {
   "codemirror_mode": {
    "name": "ipython",
    "version": 3
   },
   "file_extension": ".py",
   "mimetype": "text/x-python",
   "name": "python",
   "nbconvert_exporter": "python",
   "pygments_lexer": "ipython3",
   "version": "3.7.3"
  }
 },
 "nbformat": 4,
 "nbformat_minor": 2
}
